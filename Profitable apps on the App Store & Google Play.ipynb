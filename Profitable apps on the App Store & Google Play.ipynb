{
 "cells": [
  {
   "cell_type": "markdown",
   "id": "b29190b6",
   "metadata": {},
   "source": [
    "# Profitable apps on the App Store & Google Play\n",
    "\n",
    "This report is for a company that builds free Android and iOS mobile apps for an English speaking audience. The company's main source of revenue consists of in-app ads. This means that the more users who see and engage with the ads, the better.\n",
    "\n",
    "The goal for this project is to analyze data to help the company's developers understand what type of apps are likely to attract more users."
   ]
  },
  {
   "cell_type": "markdown",
   "id": "093dcf1f",
   "metadata": {},
   "source": [
    "## Opening and exploring the data\n",
    "Define a function that prints a given section of a dataset."
   ]
  },
  {
   "cell_type": "code",
   "execution_count": 1,
   "id": "ea3d7f06",
   "metadata": {},
   "outputs": [],
   "source": [
    "def explore_data(dataset, start, end, rows_and_columns=False):\n",
    "    dataset_slice = dataset[start:end]    \n",
    "    for row in dataset_slice:\n",
    "        print(row)\n",
    "        print('\\n')\n",
    "\n",
    "    if rows_and_columns:\n",
    "        print(f\"Number of rows: {len(dataset)}\")\n",
    "        print(f\"Number of columns: {len(dataset[0])}\")"
   ]
  },
  {
   "cell_type": "markdown",
   "id": "01ee72aa",
   "metadata": {},
   "source": [
    "Print the first three rows of the *AppleStore.csv* and *googleplaystore.csv* datasets (excluding header row).  \n",
    "Also print the total amount of rows and columns for each dataset."
   ]
  },
  {
   "cell_type": "code",
   "execution_count": 2,
   "id": "31fbe990",
   "metadata": {},
   "outputs": [
    {
     "name": "stdout",
     "output_type": "stream",
     "text": [
      "['389801252', 'Instagram', '113954816', 'USD', '0.0', '2161558', '1289', '4.5', '4.0', '10.23', '12+', 'Photo & Video', '37', '0', '29', '1']\n",
      "\n",
      "\n",
      "['529479190', 'Clash of Clans', '116476928', 'USD', '0.0', '2130805', '579', '4.5', '4.5', '9.24.12', '9+', 'Games', '38', '5', '18', '1']\n",
      "\n",
      "\n",
      "['420009108', 'Temple Run', '65921024', 'USD', '0.0', '1724546', '3842', '4.5', '4.0', '1.6.2', '9+', 'Games', '40', '5', '1', '1']\n",
      "\n",
      "\n",
      "Number of rows: 7197\n",
      "Number of columns: 16\n",
      "\n",
      "\n",
      "['Coloring book moana', 'ART_AND_DESIGN', '3.9', '967', '14M', '500,000+', 'Free', '0', 'Everyone', 'Art & Design;Pretend Play', 'January 15, 2018', '2.0.0', '4.0.3 and up']\n",
      "\n",
      "\n",
      "['U Launcher Lite – FREE Live Cool Themes, Hide Apps', 'ART_AND_DESIGN', '4.7', '87510', '8.7M', '5,000,000+', 'Free', '0', 'Everyone', 'Art & Design', 'August 1, 2018', '1.2.4', '4.0.3 and up']\n",
      "\n",
      "\n",
      "['Sketch - Draw & Paint', 'ART_AND_DESIGN', '4.5', '215644', '25M', '50,000,000+', 'Free', '0', 'Teen', 'Art & Design', 'June 8, 2018', 'Varies with device', '4.2 and up']\n",
      "\n",
      "\n",
      "Number of rows: 10841\n",
      "Number of columns: 13\n"
     ]
    }
   ],
   "source": [
    "from csv import reader\n",
    "\n",
    "opened_file_apple = open(\"AppleStore.csv\", encoding=\"utf-8\")\n",
    "opened_file_google = open(\"googleplaystore.csv\", encoding=\"utf-8\")\n",
    "\n",
    "read_file_apple = reader(opened_file_apple)\n",
    "read_file_google = reader(opened_file_google)\n",
    "\n",
    "apps_data_apple = list(read_file_apple)\n",
    "apps_data_google = list(read_file_google)\n",
    "\n",
    "explore_data(apps_data_apple[1:], 1, 4, rows_and_columns=True)\n",
    "print('\\n')\n",
    "explore_data(apps_data_google[1:], 1, 4, rows_and_columns=True)"
   ]
  },
  {
   "cell_type": "markdown",
   "id": "b2211aa2",
   "metadata": {},
   "source": [
    "Print the header rows for both datasets.  \n",
    "Links to the dataset documentation are provided if any of the categories are unclear."
   ]
  },
  {
   "cell_type": "code",
   "execution_count": 3,
   "id": "8e947730",
   "metadata": {},
   "outputs": [
    {
     "name": "stdout",
     "output_type": "stream",
     "text": [
      "['id', 'track_name', 'size_bytes', 'currency', 'price', 'rating_count_tot', 'rating_count_ver', 'user_rating', 'user_rating_ver', 'ver', 'cont_rating', 'prime_genre', 'sup_devices.num', 'ipadSc_urls.num', 'lang.num', 'vpp_lic']\n",
      "\n",
      "\n",
      "['App', 'Category', 'Rating', 'Reviews', 'Size', 'Installs', 'Type', 'Price', 'Content Rating', 'Genres', 'Last Updated', 'Current Ver', 'Android Ver']\n"
     ]
    }
   ],
   "source": [
    "print(apps_data_apple[0])\n",
    "print('\\n')\n",
    "print(apps_data_google[0])"
   ]
  },
  {
   "cell_type": "markdown",
   "id": "dd1741c0",
   "metadata": {},
   "source": [
    "- [Apple App Store dataset documentation](https://www.kaggle.com/datasets/ramamet4/app-store-apple-data-set-10k-apps)\n",
    "- [Google Play Store dataset documentation](https://www.kaggle.com/datasets/lava18/google-play-store-apps)"
   ]
  },
  {
   "cell_type": "markdown",
   "id": "21a22c33",
   "metadata": {},
   "source": [
    "## Data Cleaning - removing wrong data\n",
    "Check for missing data in the Google dataset, and determine the index number for the rows that are missing data."
   ]
  },
  {
   "cell_type": "code",
   "execution_count": 4,
   "id": "56d99412",
   "metadata": {
    "scrolled": false
   },
   "outputs": [
    {
     "name": "stdout",
     "output_type": "stream",
     "text": [
      "['Life Made WI-Fi Touchscreen Photo Frame', '1.9', '19', '3.0M', '1,000+', 'Free', '0', 'Everyone', '', 'February 11, 2018', '1.0.19', '4.0 and up']\n",
      "Index: 10473\n",
      "\n",
      "\n"
     ]
    }
   ],
   "source": [
    "for row in apps_data_google[1:]:\n",
    "    if len(row) != len(apps_data_google[0]):\n",
    "        print(row)\n",
    "        print(f\"Index: {apps_data_google.index(row)}\")\n",
    "        print('\\n')"
   ]
  },
  {
   "cell_type": "markdown",
   "id": "838cf6cc",
   "metadata": {},
   "source": [
    "Delete the row(s) that are missing data."
   ]
  },
  {
   "cell_type": "code",
   "execution_count": 5,
   "id": "120a1737",
   "metadata": {},
   "outputs": [],
   "source": [
    "del apps_data_google[10473]"
   ]
  },
  {
   "cell_type": "markdown",
   "id": "f9df769c",
   "metadata": {},
   "source": [
    "Check for missing data in the Apple dataset, and determine the index number for the rows that are missing data."
   ]
  },
  {
   "cell_type": "code",
   "execution_count": 6,
   "id": "c2f9782c",
   "metadata": {},
   "outputs": [],
   "source": [
    "for row in apps_data_apple[1:]:\n",
    "    if len(row) != len(apps_data_apple[0]):\n",
    "        print(row)\n",
    "        print(f\"Index: {apps_data_apple.index(row)}\")\n",
    "        print('\\n')"
   ]
  },
  {
   "cell_type": "markdown",
   "id": "028c0f01",
   "metadata": {},
   "source": [
    "## Data Cleaning - removing duplicate data\n",
    "Check for duplicate data in the Google dataset."
   ]
  },
  {
   "cell_type": "code",
   "execution_count": 7,
   "id": "f991a275",
   "metadata": {},
   "outputs": [
    {
     "name": "stdout",
     "output_type": "stream",
     "text": [
      "Duplicate Google apps: 1181\n"
     ]
    }
   ],
   "source": [
    "unique_apps = []\n",
    "duplicate_apps = []\n",
    "\n",
    "for app in apps_data_google[1:]:\n",
    "    name = app[0]\n",
    "    if name in unique_apps:\n",
    "        duplicate_apps.append(name)\n",
    "    else:\n",
    "        unique_apps.append(name)\n",
    "\n",
    "print(f\"Duplicate Google apps: {len(duplicate_apps)}\")"
   ]
  },
  {
   "cell_type": "markdown",
   "id": "8409180d",
   "metadata": {},
   "source": [
    "Check for duplicate data in the Apple dataset."
   ]
  },
  {
   "cell_type": "code",
   "execution_count": 8,
   "id": "614f59b7",
   "metadata": {},
   "outputs": [
    {
     "name": "stdout",
     "output_type": "stream",
     "text": [
      "Duplicate Apple apps: 0\n"
     ]
    }
   ],
   "source": [
    "unique_apps = []\n",
    "duplicate_apps = []\n",
    "\n",
    "for app in apps_data_apple[1:]:\n",
    "    name = app[0]\n",
    "    if name in unique_apps:\n",
    "        duplicate_apps.append(name)\n",
    "    else:\n",
    "        unique_apps.append(name)\n",
    "\n",
    "print(f\"Duplicate Apple apps: {len(duplicate_apps)}\")"
   ]
  },
  {
   "cell_type": "markdown",
   "id": "80dcde74",
   "metadata": {},
   "source": [
    "Only the Google dataset contains duplicate data. For example, the **Instagram** app seems to be stored 4 times in the dataset."
   ]
  },
  {
   "cell_type": "code",
   "execution_count": 9,
   "id": "f3ccd78e",
   "metadata": {},
   "outputs": [
    {
     "name": "stdout",
     "output_type": "stream",
     "text": [
      "['Instagram', 'SOCIAL', '4.5', '66577313', 'Varies with device', '1,000,000,000+', 'Free', '0', 'Teen', 'Social', 'July 31, 2018', 'Varies with device', 'Varies with device']\n",
      "['Instagram', 'SOCIAL', '4.5', '66577446', 'Varies with device', '1,000,000,000+', 'Free', '0', 'Teen', 'Social', 'July 31, 2018', 'Varies with device', 'Varies with device']\n",
      "['Instagram', 'SOCIAL', '4.5', '66577313', 'Varies with device', '1,000,000,000+', 'Free', '0', 'Teen', 'Social', 'July 31, 2018', 'Varies with device', 'Varies with device']\n",
      "['Instagram', 'SOCIAL', '4.5', '66509917', 'Varies with device', '1,000,000,000+', 'Free', '0', 'Teen', 'Social', 'July 31, 2018', 'Varies with device', 'Varies with device']\n"
     ]
    }
   ],
   "source": [
    "for app in apps_data_google[1:]:\n",
    "    name = app[0]\n",
    "    if name == \"Instagram\":\n",
    "        print(app)"
   ]
  },
  {
   "cell_type": "markdown",
   "id": "06f12f52",
   "metadata": {},
   "source": [
    "From the duplicate data, we only want to keep the row with the most recent data. That is the one with the highest number of reviews (index 3). The other duplicate data can be removed.\n",
    "\n",
    "Let's only store the most recent (aka most reviews) apps in a new **reviews_max** dictionary."
   ]
  },
  {
   "cell_type": "code",
   "execution_count": 10,
   "id": "112160d7",
   "metadata": {},
   "outputs": [
    {
     "name": "stdout",
     "output_type": "stream",
     "text": [
      "Amount of most recent apps in Google dataset: 9659\n"
     ]
    }
   ],
   "source": [
    "reviews_max = {}\n",
    "\n",
    "for app in apps_data_google[1:]:\n",
    "    name = app[0]\n",
    "    n_reviews = float(app[3])\n",
    "    \n",
    "    if name not in reviews_max:\n",
    "        reviews_max[name] = n_reviews\n",
    "    \n",
    "    if name in reviews_max and reviews_max[name] < n_reviews:\n",
    "        reviews_max[name] = n_reviews   \n",
    "        \n",
    "print(f\"Amount of most recent apps in Google dataset: {len(reviews_max)}\")"
   ]
  },
  {
   "cell_type": "markdown",
   "id": "226f2a66",
   "metadata": {},
   "source": [
    "But in order to completely remove any duplicate data, we also need to account for cases where the highest number of reviews is the same for more than one entry.\n",
    "\n",
    "First we create two new datasets: **android_clean** and **already_added**.\n",
    "- **android_clean** will be a cleaned up version of **apps_data_google** with only the most recent entries and without any duplicate data.\n",
    "- **already_added** helps us to keep track of apps that we already added.\n",
    "\n",
    "We only add apps from **apps_data_google** to **android_clean** if the amount of reviews of an app is the same in both **apps_data_google** and **reviews_max**, AND the app name is not stored in **already_added**.\n",
    "\n",
    "We need to add this supplementary condition to account for those cases where the highest number of reviews of a duplicate app is the same for more than one entry. If we just check for `n_reviews == reviews_max[name]`, we'll still end up with duplicate entries for some apps."
   ]
  },
  {
   "cell_type": "code",
   "execution_count": 11,
   "id": "bf0b5370",
   "metadata": {},
   "outputs": [],
   "source": [
    "android_clean = []\n",
    "already_added = []\n",
    "\n",
    "for app in apps_data_google[1:]:\n",
    "    name = app[0]\n",
    "    n_reviews = float(app[3])\n",
    "    \n",
    "    if n_reviews == reviews_max[name] and name not in already_added:\n",
    "        android_clean.append(app)\n",
    "        already_added.append(name)  "
   ]
  },
  {
   "cell_type": "markdown",
   "id": "dbf1f26b",
   "metadata": {},
   "source": [
    "Explore the first three rows of the cleaned dataset and check the length of the cleaned Google dataset.   \n",
    "Also check if Instagram only occurs once with the most reviews (66577446)."
   ]
  },
  {
   "cell_type": "code",
   "execution_count": 12,
   "id": "cbf1e9d9",
   "metadata": {
    "scrolled": true
   },
   "outputs": [
    {
     "name": "stdout",
     "output_type": "stream",
     "text": [
      "['Photo Editor & Candy Camera & Grid & ScrapBook', 'ART_AND_DESIGN', '4.1', '159', '19M', '10,000+', 'Free', '0', 'Everyone', 'Art & Design', 'January 7, 2018', '1.0.0', '4.0.3 and up']\n",
      "\n",
      "\n",
      "['U Launcher Lite – FREE Live Cool Themes, Hide Apps', 'ART_AND_DESIGN', '4.7', '87510', '8.7M', '5,000,000+', 'Free', '0', 'Everyone', 'Art & Design', 'August 1, 2018', '1.2.4', '4.0.3 and up']\n",
      "\n",
      "\n",
      "['Sketch - Draw & Paint', 'ART_AND_DESIGN', '4.5', '215644', '25M', '50,000,000+', 'Free', '0', 'Teen', 'Art & Design', 'June 8, 2018', 'Varies with device', '4.2 and up']\n",
      "\n",
      "\n",
      "Number of rows: 9659\n",
      "Number of columns: 13\n",
      "\n",
      "\n",
      "['Instagram', 'SOCIAL', '4.5', '66577446', 'Varies with device', '1,000,000,000+', 'Free', '0', 'Teen', 'Social', 'July 31, 2018', 'Varies with device', 'Varies with device']\n"
     ]
    }
   ],
   "source": [
    "explore_data(android_clean, 0, 3, True )\n",
    "print('\\n')\n",
    "\n",
    "for app in android_clean:\n",
    "    name = app[0]\n",
    "    if name == \"Instagram\":\n",
    "        print(app)"
   ]
  },
  {
   "cell_type": "markdown",
   "id": "f75b426a",
   "metadata": {},
   "source": [
    "## Data Cleaning - removing non-English apps\n",
    "Since the company builds apps only for an English speaking audience, we also need to remove any non-English apps.\n",
    "\n",
    "Define a function that returns `True` when an inputted string is in English, and `False` when it's not.  \n",
    "Each character in a string has a corresponding number. According to the ASCII system, the characters used in English, correspond with the numbers 0 to 127. The `ord()` function return the corresponding number for the inputted character.\n",
    "\n",
    "The function also needs to correctly identify certain special English characters like `™` and emojis, which fall outside the ASCII range and have corresponding numbers over 127. So to minimize the impact of data loss, we'll only remove an app if its name has more than three characters with corresponding numbers falling outside the ASCII range."
   ]
  },
  {
   "cell_type": "code",
   "execution_count": 14,
   "id": "4edb59d3",
   "metadata": {},
   "outputs": [],
   "source": [
    "def is_english(string):\n",
    "    non_english_characters = 0\n",
    "    \n",
    "    for character in string:\n",
    "        if ord(character) > 127:\n",
    "            non_english_characters += 1\n",
    "        \n",
    "    if non_english_characters > 3:\n",
    "        return False\n",
    "    else:   \n",
    "        return True"
   ]
  },
  {
   "cell_type": "markdown",
   "id": "a2d07d0c",
   "metadata": {},
   "source": [
    "Test the function."
   ]
  },
  {
   "cell_type": "code",
   "execution_count": 15,
   "id": "61121f26",
   "metadata": {},
   "outputs": [
    {
     "data": {
      "text/plain": [
       "True"
      ]
     },
     "execution_count": 15,
     "metadata": {},
     "output_type": "execute_result"
    }
   ],
   "source": [
    "is_english(\"Instagram\")"
   ]
  },
  {
   "cell_type": "code",
   "execution_count": 16,
   "id": "7c4512bf",
   "metadata": {},
   "outputs": [
    {
     "data": {
      "text/plain": [
       "False"
      ]
     },
     "execution_count": 16,
     "metadata": {},
     "output_type": "execute_result"
    }
   ],
   "source": [
    "is_english(\"爱奇艺PPS -《欢乐颂2》电视剧热播\")"
   ]
  },
  {
   "cell_type": "code",
   "execution_count": 17,
   "id": "e88861a7",
   "metadata": {},
   "outputs": [
    {
     "data": {
      "text/plain": [
       "True"
      ]
     },
     "execution_count": 17,
     "metadata": {},
     "output_type": "execute_result"
    }
   ],
   "source": [
    "is_english(\"Docs To Go™ Free Office Suite\")"
   ]
  },
  {
   "cell_type": "code",
   "execution_count": 18,
   "id": "5a9b8ecf",
   "metadata": {
    "scrolled": false
   },
   "outputs": [
    {
     "data": {
      "text/plain": [
       "True"
      ]
     },
     "execution_count": 18,
     "metadata": {},
     "output_type": "execute_result"
    }
   ],
   "source": [
    "is_english(\"Instachat 😜\")"
   ]
  },
  {
   "cell_type": "markdown",
   "id": "47dcb937",
   "metadata": {},
   "source": [
    "Create a filtered dataset **google_apps_english_only** that contains only English apps from the Google Play Store."
   ]
  },
  {
   "cell_type": "code",
   "execution_count": 19,
   "id": "df545ba3",
   "metadata": {},
   "outputs": [],
   "source": [
    "google_apps_english_only = []\n",
    "\n",
    "for app in android_clean:\n",
    "    name = app[0]\n",
    "    \n",
    "    if is_english(name) == True:\n",
    "        google_apps_english_only.append(app)"
   ]
  },
  {
   "cell_type": "markdown",
   "id": "4fcefdb0",
   "metadata": {},
   "source": [
    "Create a filtered dataset **apple_apps_english_only** that contains only English apps from the Apple App Store."
   ]
  },
  {
   "cell_type": "code",
   "execution_count": 20,
   "id": "f40b5dff",
   "metadata": {},
   "outputs": [],
   "source": [
    "apple_apps_english_only = []\n",
    "\n",
    "for app in apps_data_apple[1:]:\n",
    "    name = app[1]\n",
    "    \n",
    "    if is_english(name) == True:\n",
    "        apple_apps_english_only.append(app)"
   ]
  },
  {
   "cell_type": "markdown",
   "id": "86d5769a",
   "metadata": {},
   "source": [
    "Explore both datasets and determine how much English-only apps there are for both markets."
   ]
  },
  {
   "cell_type": "code",
   "execution_count": 21,
   "id": "893ce303",
   "metadata": {},
   "outputs": [
    {
     "name": "stdout",
     "output_type": "stream",
     "text": [
      "['Photo Editor & Candy Camera & Grid & ScrapBook', 'ART_AND_DESIGN', '4.1', '159', '19M', '10,000+', 'Free', '0', 'Everyone', 'Art & Design', 'January 7, 2018', '1.0.0', '4.0.3 and up']\n",
      "\n",
      "\n",
      "['U Launcher Lite – FREE Live Cool Themes, Hide Apps', 'ART_AND_DESIGN', '4.7', '87510', '8.7M', '5,000,000+', 'Free', '0', 'Everyone', 'Art & Design', 'August 1, 2018', '1.2.4', '4.0.3 and up']\n",
      "\n",
      "\n",
      "['Sketch - Draw & Paint', 'ART_AND_DESIGN', '4.5', '215644', '25M', '50,000,000+', 'Free', '0', 'Teen', 'Art & Design', 'June 8, 2018', 'Varies with device', '4.2 and up']\n",
      "\n",
      "\n",
      "Number of rows: 9614\n",
      "Number of columns: 13\n",
      "\n",
      "\n",
      "['284882215', 'Facebook', '389879808', 'USD', '0.0', '2974676', '212', '3.5', '3.5', '95.0', '4+', 'Social Networking', '37', '1', '29', '1']\n",
      "\n",
      "\n",
      "['389801252', 'Instagram', '113954816', 'USD', '0.0', '2161558', '1289', '4.5', '4.0', '10.23', '12+', 'Photo & Video', '37', '0', '29', '1']\n",
      "\n",
      "\n",
      "['529479190', 'Clash of Clans', '116476928', 'USD', '0.0', '2130805', '579', '4.5', '4.5', '9.24.12', '9+', 'Games', '38', '5', '18', '1']\n",
      "\n",
      "\n",
      "Number of rows: 6183\n",
      "Number of columns: 16\n"
     ]
    }
   ],
   "source": [
    "explore_data(google_apps_english_only, 0, 3, rows_and_columns=True)\n",
    "print('\\n')\n",
    "explore_data(apple_apps_english_only, 0, 3, rows_and_columns=True)"
   ]
  },
  {
   "cell_type": "markdown",
   "id": "0cf26dd8",
   "metadata": {},
   "source": [
    "## Data Cleaning - isolating free apps\n",
    "Since the company only makes free apps, we want to isolate the free apps for our data analysis."
   ]
  },
  {
   "cell_type": "code",
   "execution_count": 22,
   "id": "b15226b0",
   "metadata": {},
   "outputs": [],
   "source": [
    "google_apps_free = []\n",
    "apple_apps_free = []\n",
    "\n",
    "for app in google_apps_english_only:\n",
    "    price = app[7]\n",
    "    \n",
    "    if price == \"0\":\n",
    "        google_apps_free.append(app)\n",
    "        \n",
    "\n",
    "for app in apple_apps_english_only:\n",
    "    price = app[4]\n",
    "    \n",
    "    if price == \"0.0\":\n",
    "        apple_apps_free.append(app)"
   ]
  },
  {
   "cell_type": "code",
   "execution_count": 23,
   "id": "f01b1f09",
   "metadata": {},
   "outputs": [
    {
     "name": "stdout",
     "output_type": "stream",
     "text": [
      "Number of free Google apps: 8864\n",
      "Number of free Apple apps: 3222\n"
     ]
    }
   ],
   "source": [
    "print(f\"Number of free Google apps: {len(google_apps_free)}\")\n",
    "print(f\"Number of free Apple apps: {len(apple_apps_free)}\")"
   ]
  },
  {
   "cell_type": "markdown",
   "id": "fdbf65d4",
   "metadata": {},
   "source": [
    "## Data Analysis - most common apps by genre\n",
    "Our aim is to determine the kinds of apps that are likely to attract more users because our revenue is highly influenced by the number of people using our apps.\n",
    "\n",
    "To minimize risks and overhead, our validation strategy for an app idea is comprised of three steps:\n",
    "1. Build a minimal Android version of the app, and add it to Google Play.\n",
    "2. If the app has a good response from users, we develop it further.\n",
    "3. If the app is profitable after six months, we build an iOS version of the app and add it to the App Store.\n",
    "\n",
    "Because our end goal is to add the app on both Google Play and the App Store, we need to find app profiles that are successful on both markets."
   ]
  },
  {
   "cell_type": "markdown",
   "id": "3c6b3521",
   "metadata": {},
   "source": [
    "Let's first find out which genres are the most common on both markets, by creating a frequency table for each.\n",
    "- For Google Play the relevant columns are: `Category` and `Genres`.\n",
    "- For the App Store the relevant column is: `prime_genre`"
   ]
  },
  {
   "cell_type": "markdown",
   "id": "a0ea2d1a",
   "metadata": {},
   "source": [
    "First we create a function that generates a frequency table, based on a given dataset and the index of the desired column."
   ]
  },
  {
   "cell_type": "code",
   "execution_count": 24,
   "id": "5700b991",
   "metadata": {},
   "outputs": [],
   "source": [
    "def freq_table(dataset, index):\n",
    "    total = 0\n",
    "    frequency_table = {}\n",
    "    \n",
    "    for row in dataset:\n",
    "        total += 1\n",
    "        value = row[index]\n",
    "        \n",
    "        if value not in frequency_table:\n",
    "            frequency_table[value] = 1\n",
    "        else:\n",
    "            frequency_table[value] += 1\n",
    "        \n",
    "    percentage_table = {}\n",
    "    \n",
    "    for key in frequency_table:\n",
    "        percentage = (frequency_table[key]/total) * 100\n",
    "        percentage_table[key] = percentage\n",
    "        \n",
    "    return percentage_table "
   ]
  },
  {
   "cell_type": "markdown",
   "id": "1c428642",
   "metadata": {},
   "source": [
    "Then we create a function that takes in a dataset and the index of the desired column, and returns a frequency table in descending order."
   ]
  },
  {
   "cell_type": "code",
   "execution_count": 25,
   "id": "bbe9a315",
   "metadata": {},
   "outputs": [],
   "source": [
    "def display_table(dataset, index):\n",
    "    table = freq_table(dataset, index)\n",
    "    table_display = []\n",
    "    \n",
    "    for key in table:\n",
    "        key_val_as_tuple = (table[key], key)\n",
    "        table_display.append(key_val_as_tuple)\n",
    "\n",
    "    table_sorted = sorted(table_display, reverse = True)\n",
    "    for entry in table_sorted:\n",
    "        print(f\"{entry[1]}: {entry[0]}\")"
   ]
  },
  {
   "cell_type": "markdown",
   "id": "3d268b9b",
   "metadata": {},
   "source": [
    "Let's examine the frequency table (in percentages) for the `prime_genre` in the App Store."
   ]
  },
  {
   "cell_type": "code",
   "execution_count": 26,
   "id": "b254b567",
   "metadata": {},
   "outputs": [
    {
     "name": "stdout",
     "output_type": "stream",
     "text": [
      "Games: 58.16263190564867\n",
      "Entertainment: 7.883302296710118\n",
      "Photo & Video: 4.9658597144630665\n",
      "Education: 3.662321539416512\n",
      "Social Networking: 3.2898820608317814\n",
      "Shopping: 2.60707635009311\n",
      "Utilities: 2.5139664804469275\n",
      "Sports: 2.1415270018621975\n",
      "Music: 2.0484171322160147\n",
      "Health & Fitness: 2.0173805090006205\n",
      "Productivity: 1.7380509000620732\n",
      "Lifestyle: 1.5828677839851024\n",
      "News: 1.3345747982619491\n",
      "Travel: 1.2414649286157666\n",
      "Finance: 1.1173184357541899\n",
      "Weather: 0.8690254500310366\n",
      "Food & Drink: 0.8069522036002483\n",
      "Reference: 0.5586592178770949\n",
      "Business: 0.5276225946617008\n",
      "Book: 0.4345127250155183\n",
      "Navigation: 0.186219739292365\n",
      "Medical: 0.186219739292365\n",
      "Catalogs: 0.12414649286157665\n"
     ]
    }
   ],
   "source": [
    "display_table(apple_apps_free, 11)"
   ]
  },
  {
   "cell_type": "markdown",
   "id": "cfcff7b5",
   "metadata": {},
   "source": [
    "- The most common genre is `Games` with a share of 58%\n",
    "- Second is `Entertainment` with 7.8%\n",
    "- The other genres range between 0%-5%\n",
    "\n",
    "The general impression is that App Store (at least the part containing free English apps) is dominated by apps that are designed for fun (games, entertainment, photo and video, social networking, sports, music, etc.), while apps with practical purposes (education, shopping, utilities, productivity, lifestyle, etc.) are more rare.   \n",
    "However, the fact that fun apps are the most numerous doesn't also imply that they also have the greatest number of users, the demand might not be the same as the offer."
   ]
  },
  {
   "cell_type": "markdown",
   "id": "95bc8664",
   "metadata": {},
   "source": [
    "Let's now examine the frequency table (in percentages) for the `Category` in the Google Play store."
   ]
  },
  {
   "cell_type": "code",
   "execution_count": 27,
   "id": "aa452c49",
   "metadata": {},
   "outputs": [
    {
     "name": "stdout",
     "output_type": "stream",
     "text": [
      "FAMILY: 18.907942238267147\n",
      "GAME: 9.724729241877256\n",
      "TOOLS: 8.461191335740072\n",
      "BUSINESS: 4.591606498194946\n",
      "LIFESTYLE: 3.9034296028880866\n",
      "PRODUCTIVITY: 3.892148014440433\n",
      "FINANCE: 3.7003610108303246\n",
      "MEDICAL: 3.531137184115524\n",
      "SPORTS: 3.395758122743682\n",
      "PERSONALIZATION: 3.3167870036101084\n",
      "COMMUNICATION: 3.2378158844765346\n",
      "HEALTH_AND_FITNESS: 3.0798736462093865\n",
      "PHOTOGRAPHY: 2.944494584837545\n",
      "NEWS_AND_MAGAZINES: 2.7978339350180503\n",
      "SOCIAL: 2.6624548736462095\n",
      "TRAVEL_AND_LOCAL: 2.33528880866426\n",
      "SHOPPING: 2.2450361010830324\n",
      "BOOKS_AND_REFERENCE: 2.1435018050541514\n",
      "DATING: 1.861462093862816\n",
      "VIDEO_PLAYERS: 1.7937725631768955\n",
      "MAPS_AND_NAVIGATION: 1.3989169675090252\n",
      "FOOD_AND_DRINK: 1.2409747292418771\n",
      "EDUCATION: 1.1620036101083033\n",
      "ENTERTAINMENT: 0.9589350180505415\n",
      "LIBRARIES_AND_DEMO: 0.9363718411552346\n",
      "AUTO_AND_VEHICLES: 0.9250902527075812\n",
      "HOUSE_AND_HOME: 0.8235559566787004\n",
      "WEATHER: 0.8009927797833934\n",
      "EVENTS: 0.7107400722021661\n",
      "PARENTING: 0.6543321299638989\n",
      "ART_AND_DESIGN: 0.6430505415162455\n",
      "COMICS: 0.6204873646209386\n",
      "BEAUTY: 0.5979241877256317\n"
     ]
    }
   ],
   "source": [
    "display_table(google_apps_free, 1)"
   ]
  },
  {
   "cell_type": "markdown",
   "id": "8db4212c",
   "metadata": {},
   "source": [
    "- `FAMILY` is the most common category with 18.9%\n",
    "- After that `GAME` (9.7%) and `TOOLS` (8.5%) categories are also quite common\n",
    "- The other categories range between 0%-5%\n",
    "\n",
    "The landscape seems significantly different on Google Play: there are not that many apps designed for fun, and it seems that a good number of apps are designed for practical purposes (family, tools, business, lifestyle, productivity, etc.).  \n",
    "However, if we investigate this further, we can see that the `FAMILY` category (which accounts for almost 19% of the apps) means mostly games for kids.\n",
    "\n",
    "![Google Play Family](googleplay_family.png)"
   ]
  },
  {
   "cell_type": "markdown",
   "id": "921cd610",
   "metadata": {},
   "source": [
    "And let's examine the frequency table (in percentages) for the `Genres` in the Google Play store."
   ]
  },
  {
   "cell_type": "code",
   "execution_count": 28,
   "id": "fb3f6bb5",
   "metadata": {},
   "outputs": [
    {
     "name": "stdout",
     "output_type": "stream",
     "text": [
      "Tools: 8.449909747292418\n",
      "Entertainment: 6.069494584837545\n",
      "Education: 5.347472924187725\n",
      "Business: 4.591606498194946\n",
      "Productivity: 3.892148014440433\n",
      "Lifestyle: 3.892148014440433\n",
      "Finance: 3.7003610108303246\n",
      "Medical: 3.531137184115524\n",
      "Sports: 3.463447653429603\n",
      "Personalization: 3.3167870036101084\n",
      "Communication: 3.2378158844765346\n",
      "Action: 3.1024368231046933\n",
      "Health & Fitness: 3.0798736462093865\n",
      "Photography: 2.944494584837545\n",
      "News & Magazines: 2.7978339350180503\n",
      "Social: 2.6624548736462095\n",
      "Travel & Local: 2.3240072202166067\n",
      "Shopping: 2.2450361010830324\n",
      "Books & Reference: 2.1435018050541514\n",
      "Simulation: 2.0419675090252705\n",
      "Dating: 1.861462093862816\n",
      "Arcade: 1.8501805054151623\n",
      "Video Players & Editors: 1.7712093862815883\n",
      "Casual: 1.7599277978339352\n",
      "Maps & Navigation: 1.3989169675090252\n",
      "Food & Drink: 1.2409747292418771\n",
      "Puzzle: 1.128158844765343\n",
      "Racing: 0.9927797833935018\n",
      "Role Playing: 0.9363718411552346\n",
      "Libraries & Demo: 0.9363718411552346\n",
      "Auto & Vehicles: 0.9250902527075812\n",
      "Strategy: 0.9138086642599278\n",
      "House & Home: 0.8235559566787004\n",
      "Weather: 0.8009927797833934\n",
      "Events: 0.7107400722021661\n",
      "Adventure: 0.6768953068592057\n",
      "Comics: 0.6092057761732852\n",
      "Beauty: 0.5979241877256317\n",
      "Art & Design: 0.5979241877256317\n",
      "Parenting: 0.4963898916967509\n",
      "Card: 0.45126353790613716\n",
      "Casino: 0.42870036101083037\n",
      "Trivia: 0.41741877256317694\n",
      "Educational;Education: 0.39485559566787\n",
      "Board: 0.3835740072202166\n",
      "Educational: 0.3722924187725632\n",
      "Education;Education: 0.33844765342960287\n",
      "Word: 0.2594765342960289\n",
      "Casual;Pretend Play: 0.236913357400722\n",
      "Music: 0.2030685920577617\n",
      "Racing;Action & Adventure: 0.16922382671480143\n",
      "Puzzle;Brain Games: 0.16922382671480143\n",
      "Entertainment;Music & Video: 0.16922382671480143\n",
      "Casual;Brain Games: 0.13537906137184114\n",
      "Casual;Action & Adventure: 0.13537906137184114\n",
      "Arcade;Action & Adventure: 0.12409747292418773\n",
      "Action;Action & Adventure: 0.10153429602888085\n",
      "Educational;Pretend Play: 0.09025270758122744\n",
      "Simulation;Action & Adventure: 0.078971119133574\n",
      "Parenting;Education: 0.078971119133574\n",
      "Entertainment;Brain Games: 0.078971119133574\n",
      "Board;Brain Games: 0.078971119133574\n",
      "Parenting;Music & Video: 0.06768953068592057\n",
      "Educational;Brain Games: 0.06768953068592057\n",
      "Casual;Creativity: 0.06768953068592057\n",
      "Art & Design;Creativity: 0.06768953068592057\n",
      "Education;Pretend Play: 0.056407942238267145\n",
      "Role Playing;Pretend Play: 0.04512635379061372\n",
      "Education;Creativity: 0.04512635379061372\n",
      "Role Playing;Action & Adventure: 0.033844765342960284\n",
      "Puzzle;Action & Adventure: 0.033844765342960284\n",
      "Entertainment;Creativity: 0.033844765342960284\n",
      "Entertainment;Action & Adventure: 0.033844765342960284\n",
      "Educational;Creativity: 0.033844765342960284\n",
      "Educational;Action & Adventure: 0.033844765342960284\n",
      "Education;Music & Video: 0.033844765342960284\n",
      "Education;Brain Games: 0.033844765342960284\n",
      "Education;Action & Adventure: 0.033844765342960284\n",
      "Adventure;Action & Adventure: 0.033844765342960284\n",
      "Video Players & Editors;Music & Video: 0.02256317689530686\n",
      "Sports;Action & Adventure: 0.02256317689530686\n",
      "Simulation;Pretend Play: 0.02256317689530686\n",
      "Puzzle;Creativity: 0.02256317689530686\n",
      "Music;Music & Video: 0.02256317689530686\n",
      "Entertainment;Pretend Play: 0.02256317689530686\n",
      "Casual;Education: 0.02256317689530686\n",
      "Board;Action & Adventure: 0.02256317689530686\n",
      "Video Players & Editors;Creativity: 0.01128158844765343\n",
      "Trivia;Education: 0.01128158844765343\n",
      "Travel & Local;Action & Adventure: 0.01128158844765343\n",
      "Tools;Education: 0.01128158844765343\n",
      "Strategy;Education: 0.01128158844765343\n",
      "Strategy;Creativity: 0.01128158844765343\n",
      "Strategy;Action & Adventure: 0.01128158844765343\n",
      "Simulation;Education: 0.01128158844765343\n",
      "Role Playing;Brain Games: 0.01128158844765343\n",
      "Racing;Pretend Play: 0.01128158844765343\n",
      "Puzzle;Education: 0.01128158844765343\n",
      "Parenting;Brain Games: 0.01128158844765343\n",
      "Music & Audio;Music & Video: 0.01128158844765343\n",
      "Lifestyle;Pretend Play: 0.01128158844765343\n",
      "Lifestyle;Education: 0.01128158844765343\n",
      "Health & Fitness;Education: 0.01128158844765343\n",
      "Health & Fitness;Action & Adventure: 0.01128158844765343\n",
      "Entertainment;Education: 0.01128158844765343\n",
      "Communication;Creativity: 0.01128158844765343\n",
      "Comics;Creativity: 0.01128158844765343\n",
      "Casual;Music & Video: 0.01128158844765343\n",
      "Card;Action & Adventure: 0.01128158844765343\n",
      "Books & Reference;Education: 0.01128158844765343\n",
      "Art & Design;Pretend Play: 0.01128158844765343\n",
      "Art & Design;Action & Adventure: 0.01128158844765343\n",
      "Arcade;Pretend Play: 0.01128158844765343\n",
      "Adventure;Education: 0.01128158844765343\n"
     ]
    }
   ],
   "source": [
    "display_table(google_apps_free, 9)"
   ]
  },
  {
   "cell_type": "markdown",
   "id": "f01b425f",
   "metadata": {},
   "source": [
    "The top 4 `Genres` are:\n",
    "1. `Tools` (8.5%)\n",
    "2. `Entertainment` (6.1%) \n",
    "3. `Education` (5.4%) \n",
    "4. `Business` (4.6%)\n",
    "\n",
    "As was already shown by the `Category` frequency table, practical apps seem to have a better representation on Google Play compared to App Store. This picture is also confirmed by the frequency table we see for the `Genres` column.\n",
    "\n",
    "One thing we can notice on Google Play is that the `Genres` column is much more granular (it has more categories) than the `Category` column. We're looking for the bigger picture at the moment, so we'll only work with the `Category` column moving forward."
   ]
  },
  {
   "cell_type": "markdown",
   "id": "5be87a90",
   "metadata": {},
   "source": [
    "Up to this point, we found that the App Store is dominated by apps designed for fun, while Google Play shows a more balanced landscape of both practical and for-fun apps.   \n",
    "Now we'd like to get an idea about the kind of apps that have most users."
   ]
  },
  {
   "cell_type": "markdown",
   "id": "b7909333",
   "metadata": {},
   "source": [
    "## Data Analysis - most popular apps by genre on the App Store\n",
    "To find out what genres are the most popular (have the most users), we have to calculate the average number of installs for each app genre. \n",
    "\n",
    "For the Google Play dataset, we can find this information in the `Installs` column, but this information is missing for the App Store dataset. As a workaround, we'll take the total number of user ratings as a proxy, which we can find in the `rating_count_tot`."
   ]
  },
  {
   "cell_type": "markdown",
   "id": "f271e891",
   "metadata": {},
   "source": [
    "First we get all the unique app genres in the App Store by generating a frequency table."
   ]
  },
  {
   "cell_type": "code",
   "execution_count": 29,
   "id": "4ed36e13",
   "metadata": {},
   "outputs": [
    {
     "name": "stdout",
     "output_type": "stream",
     "text": [
      "{'Social Networking': 3.2898820608317814, 'Photo & Video': 4.9658597144630665, 'Games': 58.16263190564867, 'Music': 2.0484171322160147, 'Reference': 0.5586592178770949, 'Health & Fitness': 2.0173805090006205, 'Weather': 0.8690254500310366, 'Utilities': 2.5139664804469275, 'Travel': 1.2414649286157666, 'Shopping': 2.60707635009311, 'News': 1.3345747982619491, 'Navigation': 0.186219739292365, 'Lifestyle': 1.5828677839851024, 'Entertainment': 7.883302296710118, 'Food & Drink': 0.8069522036002483, 'Sports': 2.1415270018621975, 'Book': 0.4345127250155183, 'Finance': 1.1173184357541899, 'Education': 3.662321539416512, 'Productivity': 1.7380509000620732, 'Business': 0.5276225946617008, 'Catalogs': 0.12414649286157665, 'Medical': 0.186219739292365}\n"
     ]
    }
   ],
   "source": [
    "freq_table_genres_apple = freq_table(apple_apps_free, 11)\n",
    "print(freq_table_genres_apple)"
   ]
  },
  {
   "cell_type": "markdown",
   "id": "1e5c41ac",
   "metadata": {},
   "source": [
    "Now we add up the user ratings for the apps of each unique genre. And divide the sum by the number of apps belonging to that genre.\n",
    "\n",
    "Note: when looping over a dictionary, you loop over its keys, not its values."
   ]
  },
  {
   "cell_type": "code",
   "execution_count": 30,
   "id": "1fc12698",
   "metadata": {},
   "outputs": [
    {
     "name": "stdout",
     "output_type": "stream",
     "text": [
      "Social Networking: 71548.34905660378\n",
      "Photo & Video: 28441.54375\n",
      "Games: 22788.6696905016\n",
      "Music: 57326.530303030304\n",
      "Reference: 74942.11111111111\n",
      "Health & Fitness: 23298.015384615384\n",
      "Weather: 52279.892857142855\n",
      "Utilities: 18684.456790123455\n",
      "Travel: 28243.8\n",
      "Shopping: 26919.690476190477\n",
      "News: 21248.023255813954\n",
      "Navigation: 86090.33333333333\n",
      "Lifestyle: 16485.764705882353\n",
      "Entertainment: 14029.830708661417\n",
      "Food & Drink: 33333.92307692308\n",
      "Sports: 23008.898550724636\n",
      "Book: 39758.5\n",
      "Finance: 31467.944444444445\n",
      "Education: 7003.983050847458\n",
      "Productivity: 21028.410714285714\n",
      "Business: 7491.117647058823\n",
      "Catalogs: 4004.0\n",
      "Medical: 612.0\n"
     ]
    }
   ],
   "source": [
    "for genre in freq_table_genres_apple:\n",
    "    total = 0 # The sum of user ratings specific to a genre\n",
    "    len_genre = 0 # The number of apps specific to a genre\n",
    "\n",
    "    for app in apple_apps_free:\n",
    "        genre_app = app[11]\n",
    "        if genre_app == genre:\n",
    "            n_user_ratings = float(app[5])\n",
    "            total += n_user_ratings\n",
    "            len_genre += 1\n",
    "            \n",
    "    avg_n_user_ratings = total/len_genre\n",
    "    print(f\"{genre}: {avg_n_user_ratings}\")"
   ]
  },
  {
   "cell_type": "markdown",
   "id": "3c6a7484",
   "metadata": {},
   "source": [
    "The most popular App Store apps are:\n",
    "1. `Navigation` (86090)\n",
    "2. `Reference` (74942)\n",
    "3. `Social Networking` (71548)\n",
    "4. `Music` (57326)\n",
    "5. `Weather` (52279)\n",
    "\n",
    "However for some genres this data is heavily skewed by a few apps having most of the ratings, while the rest of the apps in that genre aren't actually popular."
   ]
  },
  {
   "cell_type": "markdown",
   "id": "f7ac305f",
   "metadata": {},
   "source": [
    "We can see that's the case for `Navigation` apps where Waze and Google Maps account for most of the reviews."
   ]
  },
  {
   "cell_type": "code",
   "execution_count": 31,
   "id": "a41444e9",
   "metadata": {},
   "outputs": [
    {
     "name": "stdout",
     "output_type": "stream",
     "text": [
      "Waze - GPS Navigation, Maps & Real-time Traffic: 345046\n",
      "Google Maps - Navigation & Transit: 154911\n",
      "Geocaching®: 12811\n",
      "CoPilot GPS – Car Navigation & Offline Maps: 3582\n",
      "ImmobilienScout24: Real Estate Search in Germany: 187\n",
      "Railway Route Search: 5\n"
     ]
    }
   ],
   "source": [
    "for app in apple_apps_free:\n",
    "    genre = app[11]\n",
    "    if genre == \"Navigation\":\n",
    "        print(f\"{app[1]}: {app[5]}\")"
   ]
  },
  {
   "cell_type": "markdown",
   "id": "08929c44",
   "metadata": {},
   "source": [
    "The same for `Reference` apps, where the Bible and Dictionary.com which skew up the average rating."
   ]
  },
  {
   "cell_type": "code",
   "execution_count": 32,
   "id": "0c0b14b1",
   "metadata": {},
   "outputs": [
    {
     "name": "stdout",
     "output_type": "stream",
     "text": [
      "Bible: 985920\n",
      "Dictionary.com Dictionary & Thesaurus: 200047\n",
      "Dictionary.com Dictionary & Thesaurus for iPad: 54175\n",
      "Google Translate: 26786\n",
      "Muslim Pro: Ramadan 2017 Prayer Times, Azan, Quran: 18418\n",
      "New Furniture Mods - Pocket Wiki & Game Tools for Minecraft PC Edition: 17588\n",
      "Merriam-Webster Dictionary: 16849\n",
      "Night Sky: 12122\n",
      "City Maps for Minecraft PE - The Best Maps for Minecraft Pocket Edition (MCPE): 8535\n",
      "LUCKY BLOCK MOD ™ for Minecraft PC Edition - The Best Pocket Wiki & Mods Installer Tools: 4693\n",
      "GUNS MODS for Minecraft PC Edition - Mods Tools: 1497\n",
      "Guides for Pokémon GO - Pokemon GO News and Cheats: 826\n",
      "WWDC: 762\n",
      "Horror Maps for Minecraft PE - Download The Scariest Maps for Minecraft Pocket Edition (MCPE) Free: 718\n",
      "VPN Express: 14\n",
      "Real Bike Traffic Rider Virtual Reality Glasses: 8\n",
      "教えて!goo: 0\n",
      "Jishokun-Japanese English Dictionary & Translator: 0\n"
     ]
    }
   ],
   "source": [
    "for app in apple_apps_free:\n",
    "    genre = app[11]\n",
    "    if genre == \"Reference\":\n",
    "        print(f\"{app[1]}: {app[5]}\")"
   ]
  },
  {
   "cell_type": "markdown",
   "id": "18e22204",
   "metadata": {},
   "source": [
    "`Social Networking` apps also have a few heavyhitters like Facebook, Pinterest and WhatsApp. But there also seems to be room for a lot of smaller apps who still get a decent amount of ratings. \n",
    "\n",
    "**This is the genre in the App Store we would recommend developing apps for.**"
   ]
  },
  {
   "cell_type": "code",
   "execution_count": 33,
   "id": "86409601",
   "metadata": {},
   "outputs": [
    {
     "name": "stdout",
     "output_type": "stream",
     "text": [
      "Facebook: 2974676\n",
      "Pinterest: 1061624\n",
      "Skype for iPhone: 373519\n",
      "Messenger: 351466\n",
      "Tumblr: 334293\n",
      "WhatsApp Messenger: 287589\n",
      "Kik: 260965\n",
      "ooVoo – Free Video Call, Text and Voice: 177501\n",
      "TextNow - Unlimited Text + Calls: 164963\n",
      "Viber Messenger – Text & Call: 164249\n",
      "Followers - Social Analytics For Instagram: 112778\n",
      "MeetMe - Chat and Meet New People: 97072\n",
      "We Heart It - Fashion, wallpapers, quotes, tattoos: 90414\n",
      "InsTrack for Instagram - Analytics Plus More: 85535\n",
      "Tango - Free Video Call, Voice and Chat: 75412\n",
      "LinkedIn: 71856\n",
      "Match™ - #1 Dating App.: 60659\n",
      "Skype for iPad: 60163\n",
      "POF - Best Dating App for Conversations: 52642\n",
      "Timehop: 49510\n",
      "Find My Family, Friends & iPhone - Life360 Locator: 43877\n",
      "Whisper - Share, Express, Meet: 39819\n",
      "Hangouts: 36404\n",
      "LINE PLAY - Your Avatar World: 34677\n",
      "WeChat: 34584\n",
      "Badoo - Meet New People, Chat, Socialize.: 34428\n",
      "Followers + for Instagram - Follower Analytics: 28633\n",
      "GroupMe: 28260\n",
      "Marco Polo Video Walkie Talkie: 27662\n",
      "Miitomo: 23965\n",
      "SimSimi: 23530\n",
      "Grindr - Gay and same sex guys chat, meet and date: 23201\n",
      "Wishbone - Compare Anything: 20649\n",
      "imo video calls and chat: 18841\n",
      "After School - Funny Anonymous School News: 18482\n",
      "Quick Reposter - Repost, Regram and Reshare Photos: 17694\n",
      "Weibo HD: 16772\n",
      "Repost for Instagram: 15185\n",
      "Live.me – Live Video Chat & Make Friends Nearby: 14724\n",
      "Nextdoor: 14402\n",
      "Followers Analytics for Instagram - InstaReport: 13914\n",
      "YouNow: Live Stream Video Chat: 12079\n",
      "FollowMeter for Instagram - Followers Tracking: 11976\n",
      "LINE: 11437\n",
      "eHarmony™ Dating App - Meet Singles: 11124\n",
      "Discord - Chat for Gamers: 9152\n",
      "QQ: 9109\n",
      "Telegram Messenger: 7573\n",
      "Weibo: 7265\n",
      "Periscope - Live Video Streaming Around the World: 6062\n",
      "Chat for Whatsapp - iPad Version: 5060\n",
      "QQ HD: 5058\n",
      "Followers Analysis Tool For Instagram App Free: 4253\n",
      "live.ly - live video streaming: 4145\n",
      "Houseparty - Group Video Chat: 3991\n",
      "SOMA Messenger: 3232\n",
      "Monkey: 3060\n",
      "Down To Lunch: 2535\n",
      "Flinch - Video Chat Staring Contest: 2134\n",
      "Highrise - Your Avatar Community: 2011\n",
      "LOVOO - Dating Chat: 1985\n",
      "PlayStation®Messages: 1918\n",
      "BOO! - Video chat camera with filters & stickers: 1805\n",
      "Qzone: 1649\n",
      "Chatous - Chat with new people: 1609\n",
      "Kiwi - Q&A: 1538\n",
      "GhostCodes - a discovery app for Snapchat: 1313\n",
      "Jodel: 1193\n",
      "FireChat: 1037\n",
      "Google Duo - simple video calling: 1033\n",
      "Fiesta by Tango - Chat & Meet New People: 885\n",
      "Google Allo — smart messaging: 862\n",
      "Peach — share vividly: 727\n",
      "Hey! VINA - Where Women Meet New Friends: 719\n",
      "Battlefield™ Companion: 689\n",
      "All Devices for WhatsApp - Messenger for iPad: 682\n",
      "Chat for Pokemon Go - GoChat: 500\n",
      "IAmNaughty – Dating App to Meet New People Online: 463\n",
      "Qzone HD: 458\n",
      "Zenly - Locate your friends in realtime: 427\n",
      "League of Legends Friends: 420\n",
      "豆瓣: 407\n",
      "Candid - Speak Your Mind Freely: 398\n",
      "知乎: 397\n",
      "Selfeo: 366\n",
      "Fake-A-Location Free ™: 354\n",
      "Popcorn Buzz - Free Group Calls: 281\n",
      "Fam — Group video calling for iMessage: 279\n",
      "QQ International: 274\n",
      "Ameba: 269\n",
      "SoundCloud Pulse: for creators: 240\n",
      "Tantan: 235\n",
      "Cougar Dating & Life Style App for Mature Women: 213\n",
      "Rawr Messenger - Dab your chat: 180\n",
      "WhenToPost: Best Time to Post Photos for Instagram: 158\n",
      "Inke—Broadcast an amazing life: 147\n",
      "Mustknow - anonymous video Q&A: 53\n",
      "CTFxCmoji: 39\n",
      "Lobi: 36\n",
      "Chain: Collaborate On MyVideo Story/Group Video: 35\n",
      "botman - Real time video chat: 7\n",
      "BestieBox: 0\n",
      "MATCH ON LINE chat: 0\n",
      "niconico ch: 0\n",
      "LINE BLOG: 0\n",
      "bit-tube - Live Stream Video Chat: 0\n"
     ]
    }
   ],
   "source": [
    "for app in apple_apps_free:\n",
    "    genre = app[11]\n",
    "    if genre == \"Social Networking\":\n",
    "        print(f\"{app[1]}: {app[5]}\")"
   ]
  },
  {
   "cell_type": "markdown",
   "id": "5fc24437",
   "metadata": {},
   "source": [
    "## Data Analysis - most popular apps by genre on Google Play\n",
    "As mentioned before, to find out what genres are the most popular (have the most users), we have to calculate the average number of installs for each app category. For the Google Play dataset, we can find this information in the `Installs` column.  \n",
    "\n",
    "However, the install numbers don't seem precise enough, we can see that most values are open-ended (100+, 1,000+, 5,000+, etc.).  \n",
    "For instance, we don't know whether an app with 100,000+ installs has 100,000 installs, 200,000, or 350,000."
   ]
  },
  {
   "cell_type": "code",
   "execution_count": 34,
   "id": "8cb62c29",
   "metadata": {},
   "outputs": [
    {
     "name": "stdout",
     "output_type": "stream",
     "text": [
      "1,000,000+: 15.726534296028879\n",
      "100,000+: 11.552346570397113\n",
      "10,000,000+: 10.548285198555957\n",
      "10,000+: 10.198555956678701\n",
      "1,000+: 8.393501805054152\n",
      "100+: 6.915613718411552\n",
      "5,000,000+: 6.825361010830325\n",
      "500,000+: 5.561823104693141\n",
      "50,000+: 4.7721119133574\n",
      "5,000+: 4.512635379061372\n",
      "10+: 3.5424187725631766\n",
      "500+: 3.2490974729241873\n",
      "50,000,000+: 2.3014440433213\n",
      "100,000,000+: 2.1322202166064983\n",
      "50+: 1.917870036101083\n",
      "5+: 0.78971119133574\n",
      "1+: 0.5076714801444043\n",
      "500,000,000+: 0.2707581227436823\n",
      "1,000,000,000+: 0.22563176895306858\n",
      "0+: 0.04512635379061372\n",
      "0: 0.01128158844765343\n"
     ]
    }
   ],
   "source": [
    "display_table(google_apps_free, 5)"
   ]
  },
  {
   "cell_type": "markdown",
   "id": "5bb108a9",
   "metadata": {},
   "source": [
    "But we don't need very precise data for our purpose, we only want to find out which app categories attract the most users.  \n",
    "We're going to leave the numbers as they are, which means that we'll consider that an app with 100,000+ installs has 100,000 installs, and an app with 1,000,000+ installs has 1,000,000 installs, and so on."
   ]
  },
  {
   "cell_type": "markdown",
   "id": "9e8470f6",
   "metadata": {},
   "source": [
    "First we get all the unique app categories in the Google Play store by generating a frequency table for the `Category` column."
   ]
  },
  {
   "cell_type": "code",
   "execution_count": 35,
   "id": "f435fdaa",
   "metadata": {},
   "outputs": [
    {
     "name": "stdout",
     "output_type": "stream",
     "text": [
      "{'ART_AND_DESIGN': 0.6430505415162455, 'AUTO_AND_VEHICLES': 0.9250902527075812, 'BEAUTY': 0.5979241877256317, 'BOOKS_AND_REFERENCE': 2.1435018050541514, 'BUSINESS': 4.591606498194946, 'COMICS': 0.6204873646209386, 'COMMUNICATION': 3.2378158844765346, 'DATING': 1.861462093862816, 'EDUCATION': 1.1620036101083033, 'ENTERTAINMENT': 0.9589350180505415, 'EVENTS': 0.7107400722021661, 'FINANCE': 3.7003610108303246, 'FOOD_AND_DRINK': 1.2409747292418771, 'HEALTH_AND_FITNESS': 3.0798736462093865, 'HOUSE_AND_HOME': 0.8235559566787004, 'LIBRARIES_AND_DEMO': 0.9363718411552346, 'LIFESTYLE': 3.9034296028880866, 'GAME': 9.724729241877256, 'FAMILY': 18.907942238267147, 'MEDICAL': 3.531137184115524, 'SOCIAL': 2.6624548736462095, 'SHOPPING': 2.2450361010830324, 'PHOTOGRAPHY': 2.944494584837545, 'SPORTS': 3.395758122743682, 'TRAVEL_AND_LOCAL': 2.33528880866426, 'TOOLS': 8.461191335740072, 'PERSONALIZATION': 3.3167870036101084, 'PRODUCTIVITY': 3.892148014440433, 'PARENTING': 0.6543321299638989, 'WEATHER': 0.8009927797833934, 'VIDEO_PLAYERS': 1.7937725631768955, 'NEWS_AND_MAGAZINES': 2.7978339350180503, 'MAPS_AND_NAVIGATION': 1.3989169675090252}\n"
     ]
    }
   ],
   "source": [
    "freq_table_categories_google = freq_table(google_apps_free, 1)\n",
    "print(freq_table_categories_google) "
   ]
  },
  {
   "cell_type": "markdown",
   "id": "093931d1",
   "metadata": {},
   "source": [
    "Now we add up the installs for the apps of each unique category. And divide the sum by the number of apps belonging to that category."
   ]
  },
  {
   "cell_type": "code",
   "execution_count": 36,
   "id": "8a769ae4",
   "metadata": {},
   "outputs": [
    {
     "name": "stdout",
     "output_type": "stream",
     "text": [
      "ART_AND_DESIGN: 1986335.0877192982\n",
      "AUTO_AND_VEHICLES: 647317.8170731707\n",
      "BEAUTY: 513151.88679245283\n",
      "BOOKS_AND_REFERENCE: 8767811.894736841\n",
      "BUSINESS: 1712290.1474201474\n",
      "COMICS: 817657.2727272727\n",
      "COMMUNICATION: 38456119.167247385\n",
      "DATING: 854028.8303030303\n",
      "EDUCATION: 1833495.145631068\n",
      "ENTERTAINMENT: 11640705.88235294\n",
      "EVENTS: 253542.22222222222\n",
      "FINANCE: 1387692.475609756\n",
      "FOOD_AND_DRINK: 1924897.7363636363\n",
      "HEALTH_AND_FITNESS: 4188821.9853479853\n",
      "HOUSE_AND_HOME: 1331540.5616438356\n",
      "LIBRARIES_AND_DEMO: 638503.734939759\n",
      "LIFESTYLE: 1437816.2687861272\n",
      "GAME: 15588015.603248259\n",
      "FAMILY: 3695641.8198090694\n",
      "MEDICAL: 120550.61980830671\n",
      "SOCIAL: 23253652.127118643\n",
      "SHOPPING: 7036877.311557789\n",
      "PHOTOGRAPHY: 17840110.40229885\n",
      "SPORTS: 3638640.1428571427\n",
      "TRAVEL_AND_LOCAL: 13984077.710144928\n",
      "TOOLS: 10801391.298666667\n",
      "PERSONALIZATION: 5201482.6122448975\n",
      "PRODUCTIVITY: 16787331.344927534\n",
      "PARENTING: 542603.6206896552\n",
      "WEATHER: 5074486.197183099\n",
      "VIDEO_PLAYERS: 24727872.452830188\n",
      "NEWS_AND_MAGAZINES: 9549178.467741935\n",
      "MAPS_AND_NAVIGATION: 4056941.7741935486\n"
     ]
    }
   ],
   "source": [
    "for category in freq_table_categories_google:\n",
    "    total = 0 # The sum of installs specific to a category\n",
    "    len_category = 0 # The number of apps specific to a category\n",
    "\n",
    "    for app in google_apps_free:\n",
    "        category_app = app[1]\n",
    "        if category_app == category:\n",
    "            n_installs = app[5]\n",
    "            n_installs = n_installs.replace(\"+\", \"\")\n",
    "            n_installs = n_installs.replace(\",\", \"\")\n",
    "            n_installs = float(n_installs)\n",
    "            total += n_installs\n",
    "            len_category += 1\n",
    "            \n",
    "    avg_n_installs = total/len_category\n",
    "    print(f\"{category}: {avg_n_installs}\")"
   ]
  },
  {
   "cell_type": "markdown",
   "id": "d4f1fe16",
   "metadata": {},
   "source": [
    "The `Social Networking` genre that we recommended for the App Store, seems to be a combination of the `COMMUNICATION`, `SOCIAL` and `DATING` categories on Google Play. \n",
    "\n",
    "On average, `COMMUNICATION` apps have the most installs: 38,456,119.  \n",
    "But this number is heavily skewed up by a few apps that have over one billion installs (WhatsApp, Facebook Messenger, Skype, Google Chrome, Gmail, and Hangouts), and a few others with over 100 and 500 million installs."
   ]
  },
  {
   "cell_type": "code",
   "execution_count": 37,
   "id": "7a9b071b",
   "metadata": {},
   "outputs": [
    {
     "name": "stdout",
     "output_type": "stream",
     "text": [
      "WhatsApp Messenger: 1,000,000,000+\n",
      "imo beta free calls and text: 100,000,000+\n",
      "Android Messages: 100,000,000+\n",
      "Google Duo - High Quality Video Calls: 500,000,000+\n",
      "Messenger – Text and Video Chat for Free: 1,000,000,000+\n",
      "imo free video calls and chat: 500,000,000+\n",
      "Skype - free IM & video calls: 1,000,000,000+\n",
      "Who: 100,000,000+\n",
      "GO SMS Pro - Messenger, Free Themes, Emoji: 100,000,000+\n",
      "LINE: Free Calls & Messages: 500,000,000+\n",
      "Google Chrome: Fast & Secure: 1,000,000,000+\n",
      "Firefox Browser fast & private: 100,000,000+\n",
      "UC Browser - Fast Download Private & Secure: 500,000,000+\n",
      "Gmail: 1,000,000,000+\n",
      "Hangouts: 1,000,000,000+\n",
      "Messenger Lite: Free Calls & Messages: 100,000,000+\n",
      "Kik: 100,000,000+\n",
      "KakaoTalk: Free Calls & Text: 100,000,000+\n",
      "Opera Mini - fast web browser: 100,000,000+\n",
      "Opera Browser: Fast and Secure: 100,000,000+\n",
      "Telegram: 100,000,000+\n",
      "Truecaller: Caller ID, SMS spam blocking & Dialer: 100,000,000+\n",
      "UC Browser Mini -Tiny Fast Private & Secure: 100,000,000+\n",
      "Viber Messenger: 500,000,000+\n",
      "WeChat: 100,000,000+\n",
      "Yahoo Mail – Stay Organized: 100,000,000+\n",
      "BBM - Free Calls & Messages: 100,000,000+\n"
     ]
    }
   ],
   "source": [
    "for app in google_apps_free:\n",
    "    if app[1] == \"COMMUNICATION\" and (app[5] == \"1,000,000,000+\"\n",
    "                                      or app[5] == \"500,000,000+\"\n",
    "                                      or app[5] == \"100,000,000+\"):\n",
    "        print(F\"{app[0]}: {app[5]}\")"
   ]
  },
  {
   "cell_type": "markdown",
   "id": "c405cdf2",
   "metadata": {},
   "source": [
    "We see the same pattern for `SOCIAL` apps (23,253,652 installs). The category is dominated by a few giants."
   ]
  },
  {
   "cell_type": "code",
   "execution_count": 38,
   "id": "706f328c",
   "metadata": {},
   "outputs": [
    {
     "name": "stdout",
     "output_type": "stream",
     "text": [
      "Facebook: 1,000,000,000+\n",
      "Facebook Lite: 500,000,000+\n",
      "Tumblr: 100,000,000+\n",
      "Pinterest: 100,000,000+\n",
      "Google+: 1,000,000,000+\n",
      "Badoo - Free Chat & Dating App: 100,000,000+\n",
      "Tango - Live Video Broadcast: 100,000,000+\n",
      "Instagram: 1,000,000,000+\n",
      "Snapchat: 500,000,000+\n",
      "LinkedIn: 100,000,000+\n",
      "Tik Tok - including musical.ly: 100,000,000+\n",
      "BIGO LIVE - Live Stream: 100,000,000+\n",
      "VK: 100,000,000+\n"
     ]
    }
   ],
   "source": [
    "for app in google_apps_free:\n",
    "    if app[1] == \"SOCIAL\" and (app[5] == \"1,000,000,000+\"\n",
    "                                      or app[5] == \"500,000,000+\"\n",
    "                                      or app[5] == \"100,000,000+\"):\n",
    "        print(F\"{app[0]}: {app[5]}\")"
   ]
  },
  {
   "cell_type": "markdown",
   "id": "4cb8e164",
   "metadata": {},
   "source": [
    "The `DATING` apps (854,028 installs) maybe have less total installs, but this is due to a lack of a few big apps taking all the cake. It seems the installs are more evenly spread, with a lot of diverse offerings catering to different niches. This makes it an interesting category that is welcoming to new apps.  \n",
    "**Therefore we recommend the `DATING` app genre on Google Play.**"
   ]
  },
  {
   "cell_type": "code",
   "execution_count": 39,
   "id": "a3b7bcf5",
   "metadata": {},
   "outputs": [
    {
     "name": "stdout",
     "output_type": "stream",
     "text": [
      "Match™ Dating - Meet Singles: 10,000,000+\n",
      "Hinge: Dating & Relationships: 500,000+\n",
      "Casual Dating & Adult Singles - Joyride: 5,000,000+\n",
      "CMB Free Dating App: 1,000,000+\n",
      "eharmony - Online Dating App: 5,000,000+\n",
      "Free Dating App & Flirt Chat - Match with Singles: 5,000,000+\n",
      "Chispa, the Dating App for Latino, Latina Singles: 100,000+\n",
      "Clover Dating App: 500,000+\n",
      "Black People Meet Singles Date: 1,000,000+\n",
      "Mingle2 - Free Online Dating & Singles Chat Rooms: 1,000,000+\n",
      "Free Dating App & Flirt Chat - Cheers: 10,000+\n",
      "Blendr - Chat, Flirt & Meet: 1,000,000+\n",
      "Free Dating Hook Up Messenger: 100,000+\n",
      "Find Real Love — YouLove Premium Dating: 10,000,000+\n",
      "Once - Quality Matches Every day: 1,000,000+\n",
      "BLK - Swipe. Match. Chat.: 100,000+\n",
      "Howlr: 5,000+\n",
      "Stranger Chat & Date: 500,000+\n",
      "RandoChat - Chat roulette: 1,000,000+\n",
      "BeWild Free Dating & Chat App: 100,000+\n",
      "OurTime Dating for Singles 50+: 100,000+\n",
      "FarmersOnly Dating: 100,000+\n",
      "Sudy – Meet Elite & Rich Single: 500,000+\n",
      "Single Parent Meet #1 Dating: 500,000+\n",
      "EliteSingles – Dating for Single Professionals: 500,000+\n",
      "InterracialCupid - Interracial Dating App: 50,000+\n",
      "Sugar Mommas Dating And Single Search: 1,000,000+\n",
      "Hide App, Private Dating, Safe Chat - PrivacyHider: 1,000,000+\n",
      "NoBuffDating - Free Dating App: 100,000+\n",
      "Sugar Daddy Dating App: 100,000+\n",
      "Adult Dirty Emojis: 10,000+\n",
      "Free Dating App - Meet Local Singles - Flirt Chat: 100,000+\n",
      "SnpCupid Dating: 100,000+\n",
      "Adult Dating - AdultFinder: 500,000+\n",
      "Gay Sugar Daddy Dating & Hookup – Sudy Gay: 100,000+\n",
      "BBWCupid - BBW Dating App: 50,000+\n",
      "ChatVideo Meet new people: 5,000,000+\n",
      "TryDate - Free Online Dating App, Chat Meet Adults: 500,000+\n",
      "USA Singles Meet, Match and Date Free - Date: 100,000+\n",
      "The League: 100,000+\n",
      "Herpes Dating: 1,000K+ Singles: 10,000+\n",
      "Heart mill: 100,000+\n",
      "Mutual - LDS Dating: 50,000+\n",
      "Cougar Dating Life : Date Older Women Sugar Mummy: 500,000+\n",
      "stranger chat - anonymous chat: 1,000,000+\n",
      "Millionaire Match: Rich Singles Dating App: 100,000+\n",
      "2RedBeans: 10,000+\n",
      "Dating for 50 plus Mature Singles – FINALLY: 500,000+\n",
      "SweetRing - Meet, Match, Date: 1,000,000+\n",
      "BiggerCity: Chat for gay bears, chubs & chasers: 100,000+\n",
      "SilverSingles: The 50+ Dating App: 10,000+\n",
      "Herpes Positive Singles Dating: 10,000+\n",
      "Chat Rooms, Avatars, Date - Galaxy: 10,000,000+\n",
      "FastMeet: Chat, Dating, Love: 1,000,000+\n",
      "Christian Dating For Free App: 500,000+\n",
      "Glam - Premium Dating App: 500,000+\n",
      "iDates - Chats, Flirts, Dating, Love & Relations: 500,000+\n",
      "Meet24 - Love, Chat, Singles: 1,000,000+\n",
      "Black White Interracial Dating - Interracial Match: 100,000+\n",
      "JustDating: 500,000+\n",
      "Interracial Match Dating App: 10,000+\n",
      "Russian Dating & Chat for Russian speaking RusDate: 100,000+\n",
      "Sky People (SPI): A secure blind date through authentication by Seoul National University: 100,000+\n",
      "Sweet mi - unlimited hunnam hunting blind date: 500,000+\n",
      "Mingle - Online Dating App to Chat & Meet People: 1,000,000+\n",
      "BBW Dating & Curvy Singles Chat- LargeFriends: 10,000+\n",
      "Hitwe - meet people and chat: 10,000,000+\n",
      "A hundred: 10,000+\n",
      "JustSayHi- Dating App. Chat & Meet Singles Nearby: 100,000+\n",
      "FERZU - Furries Social Network: 10,000+\n",
      "WannaMeet – Dating & Chat App: 1,000,000+\n",
      "Meet4U - Chat, Love, Singles!: 1,000,000+\n",
      "Luxy Pro- Elite Dating Single: 50,000+\n",
      "Dating Network: 10,000+\n",
      "Chatting - Free chat, random chat, boyfriend, girlfriend: 500,000+\n",
      "iPair-Meet, Chat, Dating: 5,000,000+\n",
      "Meet, chat & date. Free dating app - Chocolate app: 1,000,000+\n",
      "Transenger – Ts Dating and Chat for Free: 1,000+\n",
      "O-Star: 5,000+\n",
      "Free Cam Girls - Live Webcam: 1,000+\n",
      "Cardi B Live Stream Video Chat - Prank: 500+\n",
      "Live Girls Talk - Free Video Chat: 5,000+\n",
      "Live Talk - Free Text and Video Chat: 10,000+\n",
      "Chat Kids - Chat Room For Kids: 100+\n",
      "Girls Live Chat - Free Text & Video Chat: 10,000+\n",
      "Random Video Chat: 1,000+\n",
      "MouseMingle: 100+\n",
      "American Girls Mobile Numbers: 1,000+\n",
      "Random Video Chat App With Strangers: 1,000+\n",
      "FREE VIDEO CHAT - LIVE VIDEO AND TEXT CHAT: 1,000+\n",
      "Awake Dating: 100+\n",
      "Live Chat - Free Video Chat Rooms: 500+\n",
      "Meet With Strangers: Video Chat & Dating: 500+\n",
      "FREE LIVE TALK: 5,000+\n",
      "Random Chat App with Strangers: 100+\n",
      "Ost. Zombies Cast - New Music and Lyrics: 100+\n",
      "Dating White Girls: 50+\n",
      "Live Chat - Free Video Talk: 5,000+\n",
      "Geeks Dating: 50+\n",
      "Live chat - free video chat: 500+\n",
      "House party - live chat: 10+\n",
      "Fishing Brain & Boating Maps Marine: 500+\n",
      "CAM5678 Video Chat: 500+\n",
      "Video chat live advices: 100+\n",
      "chat live chat: 1,000+\n",
      "Pet Lovers Dating: 10+\n",
      "Friend Find: free chat + flirt dating app: 100+\n",
      "Latin Dating: 10+\n",
      "Spine- The dating app: 500+\n",
      "Online Chat Girls Meet: 500+\n",
      "Wifi Mingle: 10+\n",
      "Girls Live Talk - Free Text and Video Chat: 100+\n",
      "Soy Luna - Top Music And Lyrics: 100+\n",
      "When Will You Get Married: 10+\n",
      "HOW TO ASK A GIRL OUT: 10+\n",
      "Online Girls Chat Group: 100+\n",
      "The DJ - Match with People: 50+\n",
      "Toronto Dating: 100+\n",
      "i miss you quotes and photos: 100+\n",
      "JoJo Siwa Top Hits Music: 10+\n",
      "UK Girls Mobile Numbers: 500+\n",
      "chat saudi arabia: 1,000+\n",
      "Chat Click - Dating Search: 500+\n",
      "Iraq love chat: 50+\n",
      "Healthy Relationships Guide: 1+\n",
      "following: 10+\n",
      "Gods by Night: 1,000+\n",
      "PlusOne: 1+\n",
      "Love Calendar - Couple Sharing Calendar & CoupleDay: 50+\n",
      "Speeding Joyride & Car Meet App: 100+\n",
      "LOBSTR - go on a lunch date: 10,000+\n",
      "Titanic App - Feminist Dating Application: 500+\n",
      "French Chat Room: 1,000+\n",
      "Soul Mate: 10+\n",
      "Diamond Engagement Rings: 5+\n",
      "Dating Tips For Men: 10+\n",
      "Halalguur: 100+\n",
      "95Live -SG#1 Live Streaming App: 1,000,000+\n",
      "Just She - Top Lesbian Dating: 100,000+\n",
      "Hily: Dating, Chat, Match, Meet & Hook up: 100,000+\n",
      "Find Lover: 1,000+\n",
      "Free Dating & Flirt Chat - Choice of Love: 5,000,000+\n",
      "muzmatch: Muslim & Arab Singles, Marriage & Dating: 100,000+\n",
      "BBW Dating & Plus Size Chat: 1,000,000+\n",
      "2Date Dating App, Love and matching: 500,000+\n",
      "FlirtChat - ♥Free Dating/Flirting App♥: 500,000+\n",
      "Teenage Chat & Dating: 500+\n",
      "Girls Online Talk - Free Text and Video Chat: 10,000+\n",
      "Online Girls Chat: 50,000+\n",
      "LIVE VIDEO TALK: 10,000+\n",
      "SkyLove – Dating and chat: 5,000+\n",
      "Free Live Talk-Video Call: 10,000+\n",
      "FindLoving: 1,000+\n",
      "Sugar Daddies Dating App: 10,000+\n",
      "Free Dating App - YoCutie - Flirt, Chat & Meet: 1,000,000+\n",
      "Chat Mexico: meet people, flirt and friendship: 5,000+\n",
      "H!LooK - Dating: 10,000+\n",
      "Starg - Gay, Same Sex, Bi: 10,000+\n",
      "Moco - Chat, Meet People: 10,000,000+\n",
      "Hot or Not - Find someone right now: 10,000,000+\n",
      "OkCupid Dating: 10,000,000+\n",
      "Zoosk Dating App: Meet Singles: 10,000,000+\n",
      "Chat Anónimo Gratis Español CG: 5,000+\n",
      "Get Over Your Ex: 5,000+\n",
      "FEABIE: Feedees, BBW, BHM & FA: 100,000+\n"
     ]
    }
   ],
   "source": [
    "for app in google_apps_free:\n",
    "    if app[1] == \"DATING\":\n",
    "        print(F\"{app[0]}: {app[5]}\")"
   ]
  },
  {
   "cell_type": "markdown",
   "id": "c83317da",
   "metadata": {},
   "source": [
    "## Conclusion\n",
    "In this project, we analyzed data about the App Store and Google Play mobile apps with the goal of recommending an app profile that can be profitable for both markets.\n",
    "\n",
    "We concluded that a **dating app** fits the requirements. The genre (which falls within the `Social Networking` genre on the App Store) is popular on both the App Store and Google Play, but is not dominated by a few giants. It seems to be a welcoming environment to new apps, since there are so many diverse audiences to cater the app to."
   ]
  }
 ],
 "metadata": {
  "kernelspec": {
   "display_name": "Python 3 (ipykernel)",
   "language": "python",
   "name": "python3"
  },
  "language_info": {
   "codemirror_mode": {
    "name": "ipython",
    "version": 3
   },
   "file_extension": ".py",
   "mimetype": "text/x-python",
   "name": "python",
   "nbconvert_exporter": "python",
   "pygments_lexer": "ipython3",
   "version": "3.11.5"
  }
 },
 "nbformat": 4,
 "nbformat_minor": 5
}
